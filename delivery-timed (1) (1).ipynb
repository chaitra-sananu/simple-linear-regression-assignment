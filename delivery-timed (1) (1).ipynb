{
 "cells": [
  {
   "cell_type": "code",
   "execution_count": 1,
   "metadata": {
    "execution": {
     "iopub.execute_input": "2020-11-23T14:28:01.013467Z",
     "iopub.status.busy": "2020-11-23T14:28:01.012623Z",
     "iopub.status.idle": "2020-11-23T14:28:02.082517Z",
     "shell.execute_reply": "2020-11-23T14:28:02.081722Z"
    },
    "papermill": {
     "duration": 1.107645,
     "end_time": "2020-11-23T14:28:02.082660",
     "exception": false,
     "start_time": "2020-11-23T14:28:00.975015",
     "status": "completed"
    },
    "tags": []
   },
   "outputs": [],
   "source": [
    "#load the libraries\n",
    "import pandas as pd\n",
    "import numpy as np\n",
    "from scipy.stats import kurtosis\n",
    "from scipy.stats import skew"
   ]
  },
  {
   "cell_type": "code",
   "execution_count": 2,
   "metadata": {
    "execution": {
     "iopub.execute_input": "2020-11-23T14:28:02.149163Z",
     "iopub.status.busy": "2020-11-23T14:28:02.148397Z",
     "iopub.status.idle": "2020-11-23T14:28:02.158655Z",
     "shell.execute_reply": "2020-11-23T14:28:02.157832Z"
    },
    "papermill": {
     "duration": 0.046947,
     "end_time": "2020-11-23T14:28:02.158791",
     "exception": false,
     "start_time": "2020-11-23T14:28:02.111844",
     "status": "completed"
    },
    "tags": []
   },
   "outputs": [],
   "source": [
    "data1 = pd.read_csv(\"../input/delivery-time/delivery_time.csv\")"
   ]
  },
  {
   "cell_type": "code",
   "execution_count": 3,
   "metadata": {
    "execution": {
     "iopub.execute_input": "2020-11-23T14:28:02.242052Z",
     "iopub.status.busy": "2020-11-23T14:28:02.241282Z",
     "iopub.status.idle": "2020-11-23T14:28:02.266273Z",
     "shell.execute_reply": "2020-11-23T14:28:02.265608Z"
    },
    "papermill": {
     "duration": 0.078346,
     "end_time": "2020-11-23T14:28:02.266403",
     "exception": false,
     "start_time": "2020-11-23T14:28:02.188057",
     "status": "completed"
    },
    "tags": []
   },
   "outputs": [
    {
     "data": {
      "text/html": [
       "<div>\n",
       "<style scoped>\n",
       "    .dataframe tbody tr th:only-of-type {\n",
       "        vertical-align: middle;\n",
       "    }\n",
       "\n",
       "    .dataframe tbody tr th {\n",
       "        vertical-align: top;\n",
       "    }\n",
       "\n",
       "    .dataframe thead th {\n",
       "        text-align: right;\n",
       "    }\n",
       "</style>\n",
       "<table border=\"1\" class=\"dataframe\">\n",
       "  <thead>\n",
       "    <tr style=\"text-align: right;\">\n",
       "      <th></th>\n",
       "      <th>Delivery Time</th>\n",
       "      <th>Sorting Time</th>\n",
       "    </tr>\n",
       "  </thead>\n",
       "  <tbody>\n",
       "    <tr>\n",
       "      <th>count</th>\n",
       "      <td>21.000000</td>\n",
       "      <td>21.000000</td>\n",
       "    </tr>\n",
       "    <tr>\n",
       "      <th>mean</th>\n",
       "      <td>16.790952</td>\n",
       "      <td>6.190476</td>\n",
       "    </tr>\n",
       "    <tr>\n",
       "      <th>std</th>\n",
       "      <td>5.074901</td>\n",
       "      <td>2.542028</td>\n",
       "    </tr>\n",
       "    <tr>\n",
       "      <th>min</th>\n",
       "      <td>8.000000</td>\n",
       "      <td>2.000000</td>\n",
       "    </tr>\n",
       "    <tr>\n",
       "      <th>25%</th>\n",
       "      <td>13.500000</td>\n",
       "      <td>4.000000</td>\n",
       "    </tr>\n",
       "    <tr>\n",
       "      <th>50%</th>\n",
       "      <td>17.830000</td>\n",
       "      <td>6.000000</td>\n",
       "    </tr>\n",
       "    <tr>\n",
       "      <th>75%</th>\n",
       "      <td>19.750000</td>\n",
       "      <td>8.000000</td>\n",
       "    </tr>\n",
       "    <tr>\n",
       "      <th>max</th>\n",
       "      <td>29.000000</td>\n",
       "      <td>10.000000</td>\n",
       "    </tr>\n",
       "  </tbody>\n",
       "</table>\n",
       "</div>"
      ],
      "text/plain": [
       "       Delivery Time  Sorting Time\n",
       "count      21.000000     21.000000\n",
       "mean       16.790952      6.190476\n",
       "std         5.074901      2.542028\n",
       "min         8.000000      2.000000\n",
       "25%        13.500000      4.000000\n",
       "50%        17.830000      6.000000\n",
       "75%        19.750000      8.000000\n",
       "max        29.000000     10.000000"
      ]
     },
     "execution_count": 3,
     "metadata": {},
     "output_type": "execute_result"
    }
   ],
   "source": [
    "data1.describe()"
   ]
  },
  {
   "cell_type": "code",
   "execution_count": 4,
   "metadata": {
    "execution": {
     "iopub.execute_input": "2020-11-23T14:28:02.334677Z",
     "iopub.status.busy": "2020-11-23T14:28:02.333829Z",
     "iopub.status.idle": "2020-11-23T14:28:02.337979Z",
     "shell.execute_reply": "2020-11-23T14:28:02.338570Z"
    },
    "papermill": {
     "duration": 0.040377,
     "end_time": "2020-11-23T14:28:02.338743",
     "exception": false,
     "start_time": "2020-11-23T14:28:02.298366",
     "status": "completed"
    },
    "tags": []
   },
   "outputs": [
    {
     "data": {
      "text/plain": [
       "(21, 2)"
      ]
     },
     "execution_count": 4,
     "metadata": {},
     "output_type": "execute_result"
    }
   ],
   "source": [
    "data1.shape"
   ]
  },
  {
   "cell_type": "code",
   "execution_count": 5,
   "metadata": {
    "execution": {
     "iopub.execute_input": "2020-11-23T14:28:02.406805Z",
     "iopub.status.busy": "2020-11-23T14:28:02.405841Z",
     "iopub.status.idle": "2020-11-23T14:28:02.409144Z",
     "shell.execute_reply": "2020-11-23T14:28:02.408449Z"
    },
    "papermill": {
     "duration": 0.040031,
     "end_time": "2020-11-23T14:28:02.409290",
     "exception": false,
     "start_time": "2020-11-23T14:28:02.369259",
     "status": "completed"
    },
    "tags": []
   },
   "outputs": [],
   "source": [
    "data1 = data1.rename(columns = {'Delivery Time': 'DT', 'Sorting Time': 'ST'}, inplace = False)"
   ]
  },
  {
   "cell_type": "code",
   "execution_count": 6,
   "metadata": {
    "execution": {
     "iopub.execute_input": "2020-11-23T14:28:02.485013Z",
     "iopub.status.busy": "2020-11-23T14:28:02.484070Z",
     "iopub.status.idle": "2020-11-23T14:28:02.487492Z",
     "shell.execute_reply": "2020-11-23T14:28:02.488057Z"
    },
    "papermill": {
     "duration": 0.048581,
     "end_time": "2020-11-23T14:28:02.488242",
     "exception": false,
     "start_time": "2020-11-23T14:28:02.439661",
     "status": "completed"
    },
    "tags": []
   },
   "outputs": [
    {
     "name": "stdout",
     "output_type": "stream",
     "text": [
      "<class 'pandas.core.frame.DataFrame'>\n",
      "RangeIndex: 21 entries, 0 to 20\n",
      "Data columns (total 2 columns):\n",
      " #   Column  Non-Null Count  Dtype  \n",
      "---  ------  --------------  -----  \n",
      " 0   DT      21 non-null     float64\n",
      " 1   ST      21 non-null     int64  \n",
      "dtypes: float64(1), int64(1)\n",
      "memory usage: 464.0 bytes\n"
     ]
    }
   ],
   "source": [
    "data1.info()"
   ]
  },
  {
   "cell_type": "code",
   "execution_count": 7,
   "metadata": {
    "execution": {
     "iopub.execute_input": "2020-11-23T14:28:02.557801Z",
     "iopub.status.busy": "2020-11-23T14:28:02.556647Z",
     "iopub.status.idle": "2020-11-23T14:28:02.560729Z",
     "shell.execute_reply": "2020-11-23T14:28:02.561590Z"
    },
    "papermill": {
     "duration": 0.042628,
     "end_time": "2020-11-23T14:28:02.561782",
     "exception": false,
     "start_time": "2020-11-23T14:28:02.519154",
     "status": "completed"
    },
    "tags": []
   },
   "outputs": [
    {
     "name": "stdout",
     "output_type": "stream",
     "text": [
      "-0.02558576894549036\n",
      "-1.1653901357029155\n"
     ]
    }
   ],
   "source": [
    "print(kurtosis(data1.DT))\n",
    "print(kurtosis(data1.ST))\n"
   ]
  },
  {
   "cell_type": "code",
   "execution_count": 8,
   "metadata": {
    "execution": {
     "iopub.execute_input": "2020-11-23T14:28:02.640321Z",
     "iopub.status.busy": "2020-11-23T14:28:02.639063Z",
     "iopub.status.idle": "2020-11-23T14:28:02.644880Z",
     "shell.execute_reply": "2020-11-23T14:28:02.644199Z"
    },
    "papermill": {
     "duration": 0.047258,
     "end_time": "2020-11-23T14:28:02.645018",
     "exception": false,
     "start_time": "2020-11-23T14:28:02.597760",
     "status": "completed"
    },
    "tags": []
   },
   "outputs": [
    {
     "name": "stdout",
     "output_type": "stream",
     "text": [
      "0.326702631656106\n",
      "0.043680994983108075\n"
     ]
    }
   ],
   "source": [
    "print(skew(data1.DT))\n",
    "print(skew(data1.ST))"
   ]
  },
  {
   "cell_type": "code",
   "execution_count": 9,
   "metadata": {
    "execution": {
     "iopub.execute_input": "2020-11-23T14:28:02.716716Z",
     "iopub.status.busy": "2020-11-23T14:28:02.715930Z",
     "iopub.status.idle": "2020-11-23T14:28:04.373254Z",
     "shell.execute_reply": "2020-11-23T14:28:04.372469Z"
    },
    "papermill": {
     "duration": 1.695277,
     "end_time": "2020-11-23T14:28:04.373389",
     "exception": false,
     "start_time": "2020-11-23T14:28:02.678112",
     "status": "completed"
    },
    "tags": []
   },
   "outputs": [
    {
     "data": {
      "text/plain": [
       "<seaborn.axisgrid.PairGrid at 0x7f8a5296ef90>"
      ]
     },
     "execution_count": 9,
     "metadata": {},
     "output_type": "execute_result"
    },
    {
     "data": {
      "image/png": "[encoded data removed]",
      "text/plain": [
       "<Figure size 360x360 with 6 Axes>"
      ]
     },
     "metadata": {
      "needs_background": "light"
     },
     "output_type": "display_data"
    }
   ],
   "source": [
    "# Seaborn visualization library\n",
    "import seaborn as sns\n",
    "# Create the default pairplot\n",
    "sns.pairplot(data1)    #positve correlation"
   ]
  },
  {
   "cell_type": "code",
   "execution_count": 10,
   "metadata": {
    "execution": {
     "iopub.execute_input": "2020-11-23T14:28:04.461303Z",
     "iopub.status.busy": "2020-11-23T14:28:04.460064Z",
     "iopub.status.idle": "2020-11-23T14:28:04.675046Z",
     "shell.execute_reply": "2020-11-23T14:28:04.674420Z"
    },
    "papermill": {
     "duration": 0.267835,
     "end_time": "2020-11-23T14:28:04.675176",
     "exception": false,
     "start_time": "2020-11-23T14:28:04.407341",
     "status": "completed"
    },
    "tags": []
   },
   "outputs": [
    {
     "data": {
      "image/png": "[encoded data removed]",
      "text/plain": [
       "<Figure size 432x288 with 2 Axes>"
      ]
     },
     "metadata": {
      "needs_background": "light"
     },
     "output_type": "display_data"
    }
   ],
   "source": [
    "import seaborn as sn\n",
    "import matplotlib.pyplot as plt\n",
    "corrMatrix = data1.corr()\n",
    "sn.heatmap(corrMatrix, annot=True)\n",
    "plt.show()"
   ]
  },
  {
   "cell_type": "code",
   "execution_count": 11,
   "metadata": {
    "execution": {
     "iopub.execute_input": "2020-11-23T14:28:04.760178Z",
     "iopub.status.busy": "2020-11-23T14:28:04.754775Z",
     "iopub.status.idle": "2020-11-23T14:28:05.107355Z",
     "shell.execute_reply": "2020-11-23T14:28:05.106516Z"
    },
    "papermill": {
     "duration": 0.397427,
     "end_time": "2020-11-23T14:28:05.107490",
     "exception": false,
     "start_time": "2020-11-23T14:28:04.710063",
     "status": "completed"
    },
    "tags": []
   },
   "outputs": [
    {
     "data": {
      "text/plain": [
       "<matplotlib.axes._subplots.AxesSubplot at 0x7f8a500537d0>"
      ]
     },
     "execution_count": 11,
     "metadata": {},
     "output_type": "execute_result"
    },
    {
     "data": {
      "image/png": "[encoded data removed]",
      "text/plain": [
       "<Figure size 432x288 with 2 Axes>"
      ]
     },
     "metadata": {
      "needs_background": "light"
     },
     "output_type": "display_data"
    }
   ],
   "source": [
    "import seaborn as sns\n",
    "cols = data1.columns \n",
    "colours = ['#ffc0cb', '#ffff00'] # specify the colours - yellow is missing. blue is not missing.\n",
    "sns.heatmap(data1[cols].isnull(),\n",
    "            cmap=sns.color_palette(colours))\n",
    "\n",
    "#no null values"
   ]
  },
  {
   "cell_type": "code",
   "execution_count": 12,
   "metadata": {
    "execution": {
     "iopub.execute_input": "2020-11-23T14:28:05.186124Z",
     "iopub.status.busy": "2020-11-23T14:28:05.185366Z",
     "iopub.status.idle": "2020-11-23T14:28:05.353170Z",
     "shell.execute_reply": "2020-11-23T14:28:05.352197Z"
    },
    "papermill": {
     "duration": 0.209539,
     "end_time": "2020-11-23T14:28:05.353387",
     "exception": false,
     "start_time": "2020-11-23T14:28:05.143848",
     "status": "completed"
    },
    "tags": []
   },
   "outputs": [
    {
     "data": {
      "text/plain": [
       "<matplotlib.axes._subplots.AxesSubplot at 0x7f8a4ff4e8d0>"
      ]
     },
     "execution_count": 12,
     "metadata": {},
     "output_type": "execute_result"
    },
    {
     "data": {
      "image/png": "[encoded data removed]",
      "text/plain": [
       "<Figure size 432x288 with 1 Axes>"
      ]
     },
     "metadata": {
      "needs_background": "light"
     },
     "output_type": "display_data"
    }
   ],
   "source": [
    "#Box plot\n",
    "data1.boxplot(column=['DT'])"
   ]
  },
  {
   "cell_type": "code",
   "execution_count": 13,
   "metadata": {
    "execution": {
     "iopub.execute_input": "2020-11-23T14:28:05.444866Z",
     "iopub.status.busy": "2020-11-23T14:28:05.444076Z",
     "iopub.status.idle": "2020-11-23T14:28:05.597647Z",
     "shell.execute_reply": "2020-11-23T14:28:05.596836Z"
    },
    "papermill": {
     "duration": 0.204878,
     "end_time": "2020-11-23T14:28:05.597780",
     "exception": false,
     "start_time": "2020-11-23T14:28:05.392902",
     "status": "completed"
    },
    "tags": []
   },
   "outputs": [
    {
     "data": {
      "text/plain": [
       "<matplotlib.axes._subplots.AxesSubplot at 0x7f8a4ff29950>"
      ]
     },
     "execution_count": 13,
     "metadata": {},
     "output_type": "execute_result"
    },
    {
     "data": {
      "image/png": "[encoded data removed]",
      "text/plain": [
       "<Figure size 432x288 with 1 Axes>"
      ]
     },
     "metadata": {
      "needs_background": "light"
     },
     "output_type": "display_data"
    }
   ],
   "source": [
    "#Box plot\n",
    "data1.boxplot(column=['ST'])"
   ]
  },
  {
   "cell_type": "code",
   "execution_count": 14,
   "metadata": {
    "execution": {
     "iopub.execute_input": "2020-11-23T14:28:05.682750Z",
     "iopub.status.busy": "2020-11-23T14:28:05.681864Z",
     "iopub.status.idle": "2020-11-23T14:28:05.686400Z",
     "shell.execute_reply": "2020-11-23T14:28:05.685762Z"
    },
    "papermill": {
     "duration": 0.050082,
     "end_time": "2020-11-23T14:28:05.686527",
     "exception": false,
     "start_time": "2020-11-23T14:28:05.636445",
     "status": "completed"
    },
    "tags": []
   },
   "outputs": [
    {
     "data": {
      "text/plain": [
       "(0, 2)"
      ]
     },
     "execution_count": 14,
     "metadata": {},
     "output_type": "execute_result"
    }
   ],
   "source": [
    "#Count of duplicated rows\n",
    "data1[data1.duplicated()].shape"
   ]
  },
  {
   "cell_type": "code",
   "execution_count": 15,
   "metadata": {
    "execution": {
     "iopub.execute_input": "2020-11-23T14:28:05.776494Z",
     "iopub.status.busy": "2020-11-23T14:28:05.775341Z",
     "iopub.status.idle": "2020-11-23T14:28:06.000079Z",
     "shell.execute_reply": "2020-11-23T14:28:05.999353Z"
    },
    "papermill": {
     "duration": 0.274585,
     "end_time": "2020-11-23T14:28:06.000203",
     "exception": false,
     "start_time": "2020-11-23T14:28:05.725618",
     "status": "completed"
    },
    "tags": []
   },
   "outputs": [
    {
     "data": {
      "text/plain": [
       "<matplotlib.axes._subplots.AxesSubplot at 0x7f8a4febc350>"
      ]
     },
     "execution_count": 15,
     "metadata": {},
     "output_type": "execute_result"
    },
    {
     "data": {
      "image/png": "[encoded data removed]",
      "text/plain": [
       "<Figure size 432x288 with 1 Axes>"
      ]
     },
     "metadata": {
      "needs_background": "light"
     },
     "output_type": "display_data"
    }
   ],
   "source": [
    "# histogram of Ozone\n",
    "data1['ST'].hist()"
   ]
  },
  {
   "cell_type": "code",
   "execution_count": 16,
   "metadata": {
    "execution": {
     "iopub.execute_input": "2020-11-23T14:28:06.096322Z",
     "iopub.status.busy": "2020-11-23T14:28:06.095087Z",
     "iopub.status.idle": "2020-11-23T14:28:06.255854Z",
     "shell.execute_reply": "2020-11-23T14:28:06.255090Z"
    },
    "papermill": {
     "duration": 0.207289,
     "end_time": "2020-11-23T14:28:06.255976",
     "exception": false,
     "start_time": "2020-11-23T14:28:06.048687",
     "status": "completed"
    },
    "tags": []
   },
   "outputs": [
    {
     "data": {
      "text/plain": [
       "<matplotlib.axes._subplots.AxesSubplot at 0x7f8a4fdd7f50>"
      ]
     },
     "execution_count": 16,
     "metadata": {},
     "output_type": "execute_result"
    },
    {
     "data": {
      "image/png": "[encoded data removed]",
      "text/plain": [
       "<Figure size 432x288 with 1 Axes>"
      ]
     },
     "metadata": {
      "needs_background": "light"
     },
     "output_type": "display_data"
    }
   ],
   "source": [
    "#Box plot\n",
    "data1.boxplot(column=['ST'])"
   ]
  },
  {
   "cell_type": "code",
   "execution_count": 17,
   "metadata": {
    "execution": {
     "iopub.execute_input": "2020-11-23T14:28:06.350935Z",
     "iopub.status.busy": "2020-11-23T14:28:06.349860Z",
     "iopub.status.idle": "2020-11-23T14:28:06.548095Z",
     "shell.execute_reply": "2020-11-23T14:28:06.547288Z"
    },
    "papermill": {
     "duration": 0.250206,
     "end_time": "2020-11-23T14:28:06.548254",
     "exception": false,
     "start_time": "2020-11-23T14:28:06.298048",
     "status": "completed"
    },
    "tags": []
   },
   "outputs": [
    {
     "data": {
      "text/plain": [
       "<matplotlib.axes._subplots.AxesSubplot at 0x7f8a4fd50310>"
      ]
     },
     "execution_count": 17,
     "metadata": {},
     "output_type": "execute_result"
    },
    {
     "data": {
      "image/png": "[encoded data removed]",
      "text/plain": [
       "<Figure size 432x288 with 1 Axes>"
      ]
     },
     "metadata": {
      "needs_background": "light"
     },
     "output_type": "display_data"
    }
   ],
   "source": [
    "#Bar plot\n",
    "data1['ST'].value_counts().plot.bar()"
   ]
  },
  {
   "cell_type": "code",
   "execution_count": 18,
   "metadata": {
    "execution": {
     "iopub.execute_input": "2020-11-23T14:28:06.661771Z",
     "iopub.status.busy": "2020-11-23T14:28:06.660948Z",
     "iopub.status.idle": "2020-11-23T14:28:07.869580Z",
     "shell.execute_reply": "2020-11-23T14:28:07.868925Z"
    },
    "papermill": {
     "duration": 1.272886,
     "end_time": "2020-11-23T14:28:07.869740",
     "exception": false,
     "start_time": "2020-11-23T14:28:06.596854",
     "status": "completed"
    },
    "tags": []
   },
   "outputs": [
    {
     "data": {
      "text/plain": [
       "<seaborn.axisgrid.PairGrid at 0x7f8a4fd16350>"
      ]
     },
     "execution_count": 18,
     "metadata": {},
     "output_type": "execute_result"
    },
    {
     "data": {
      "image/png": "[encoded data removed]",
      "text/plain": [
       "<Figure size 360x360 with 6 Axes>"
      ]
     },
     "metadata": {
      "needs_background": "light"
     },
     "output_type": "display_data"
    }
   ],
   "source": [
    "# Seaborn visualization library\n",
    "import seaborn as sns\n",
    "# Create the default pairplot\n",
    "sns.pairplot(data1)"
   ]
  },
  {
   "cell_type": "code",
   "execution_count": 19,
   "metadata": {
    "execution": {
     "iopub.execute_input": "2020-11-23T14:28:07.970503Z",
     "iopub.status.busy": "2020-11-23T14:28:07.969552Z",
     "iopub.status.idle": "2020-11-23T14:28:07.974880Z",
     "shell.execute_reply": "2020-11-23T14:28:07.974114Z"
    },
    "papermill": {
     "duration": 0.06058,
     "end_time": "2020-11-23T14:28:07.975004",
     "exception": false,
     "start_time": "2020-11-23T14:28:07.914424",
     "status": "completed"
    },
    "tags": []
   },
   "outputs": [
    {
     "data": {
      "text/html": [
       "<div>\n",
       "<style scoped>\n",
       "    .dataframe tbody tr th:only-of-type {\n",
       "        vertical-align: middle;\n",
       "    }\n",
       "\n",
       "    .dataframe tbody tr th {\n",
       "        vertical-align: top;\n",
       "    }\n",
       "\n",
       "    .dataframe thead th {\n",
       "        text-align: right;\n",
       "    }\n",
       "</style>\n",
       "<table border=\"1\" class=\"dataframe\">\n",
       "  <thead>\n",
       "    <tr style=\"text-align: right;\">\n",
       "      <th></th>\n",
       "      <th>DT</th>\n",
       "      <th>ST</th>\n",
       "    </tr>\n",
       "  </thead>\n",
       "  <tbody>\n",
       "    <tr>\n",
       "      <th>DT</th>\n",
       "      <td>1.000000</td>\n",
       "      <td>0.825997</td>\n",
       "    </tr>\n",
       "    <tr>\n",
       "      <th>ST</th>\n",
       "      <td>0.825997</td>\n",
       "      <td>1.000000</td>\n",
       "    </tr>\n",
       "  </tbody>\n",
       "</table>\n",
       "</div>"
      ],
      "text/plain": [
       "          DT        ST\n",
       "DT  1.000000  0.825997\n",
       "ST  0.825997  1.000000"
      ]
     },
     "execution_count": 19,
     "metadata": {},
     "output_type": "execute_result"
    }
   ],
   "source": [
    "#Correlation\n",
    "data1.corr()"
   ]
  },
  {
   "cell_type": "code",
   "execution_count": 20,
   "metadata": {
    "execution": {
     "iopub.execute_input": "2020-11-23T14:28:08.080492Z",
     "iopub.status.busy": "2020-11-23T14:28:08.073443Z",
     "iopub.status.idle": "2020-11-23T14:28:08.275029Z",
     "shell.execute_reply": "2020-11-23T14:28:08.275763Z"
    },
    "papermill": {
     "duration": 0.254565,
     "end_time": "2020-11-23T14:28:08.275949",
     "exception": false,
     "start_time": "2020-11-23T14:28:08.021384",
     "status": "completed"
    },
    "tags": []
   },
   "outputs": [
    {
     "data": {
      "text/plain": [
       "<matplotlib.axes._subplots.AxesSubplot at 0x7f8a4fab2110>"
      ]
     },
     "execution_count": 20,
     "metadata": {},
     "output_type": "execute_result"
    },
    {
     "data": {
      "image/png": "[encoded data removed]",
      "text/plain": [
       "<Figure size 432x288 with 1 Axes>"
      ]
     },
     "metadata": {
      "needs_background": "light"
     },
     "output_type": "display_data"
    }
   ],
   "source": [
    "import seaborn as sns\n",
    "sns.distplot(data1['DT'])"
   ]
  },
  {
   "cell_type": "code",
   "execution_count": 21,
   "metadata": {
    "execution": {
     "iopub.execute_input": "2020-11-23T14:28:08.395345Z",
     "iopub.status.busy": "2020-11-23T14:28:08.391892Z",
     "iopub.status.idle": "2020-11-23T14:28:08.598024Z",
     "shell.execute_reply": "2020-11-23T14:28:08.598571Z"
    },
    "papermill": {
     "duration": 0.269777,
     "end_time": "2020-11-23T14:28:08.598732",
     "exception": false,
     "start_time": "2020-11-23T14:28:08.328955",
     "status": "completed"
    },
    "tags": []
   },
   "outputs": [
    {
     "data": {
      "text/plain": [
       "<matplotlib.axes._subplots.AxesSubplot at 0x7f8a4fa1f490>"
      ]
     },
     "execution_count": 21,
     "metadata": {},
     "output_type": "execute_result"
    },
    {
     "data": {
      "image/png": "[encoded data removed]",
      "text/plain": [
       "<Figure size 432x288 with 1 Axes>"
      ]
     },
     "metadata": {
      "needs_background": "light"
     },
     "output_type": "display_data"
    }
   ],
   "source": [
    "import seaborn as sns\n",
    "sns.distplot(data1['ST'])"
   ]
  },
  {
   "cell_type": "code",
   "execution_count": 22,
   "metadata": {
    "execution": {
     "iopub.execute_input": "2020-11-23T14:28:08.707496Z",
     "iopub.status.busy": "2020-11-23T14:28:08.706570Z",
     "iopub.status.idle": "2020-11-23T14:28:08.710005Z",
     "shell.execute_reply": "2020-11-23T14:28:08.709272Z"
    },
    "papermill": {
     "duration": 0.060565,
     "end_time": "2020-11-23T14:28:08.710129",
     "exception": false,
     "start_time": "2020-11-23T14:28:08.649564",
     "status": "completed"
    },
    "tags": []
   },
   "outputs": [],
   "source": [
    "data1 = data1.rename(columns = {'Delivery Time': 'DT', 'Sorting Time': 'ST'}, inplace = False)"
   ]
  },
  {
   "cell_type": "code",
   "execution_count": 23,
   "metadata": {
    "execution": {
     "iopub.execute_input": "2020-11-23T14:28:08.823941Z",
     "iopub.status.busy": "2020-11-23T14:28:08.822831Z",
     "iopub.status.idle": "2020-11-23T14:28:08.827980Z",
     "shell.execute_reply": "2020-11-23T14:28:08.827298Z"
    },
    "papermill": {
     "duration": 0.068307,
     "end_time": "2020-11-23T14:28:08.828119",
     "exception": false,
     "start_time": "2020-11-23T14:28:08.759812",
     "status": "completed"
    },
    "tags": []
   },
   "outputs": [
    {
     "data": {
      "text/html": [
       "<div>\n",
       "<style scoped>\n",
       "    .dataframe tbody tr th:only-of-type {\n",
       "        vertical-align: middle;\n",
       "    }\n",
       "\n",
       "    .dataframe tbody tr th {\n",
       "        vertical-align: top;\n",
       "    }\n",
       "\n",
       "    .dataframe thead th {\n",
       "        text-align: right;\n",
       "    }\n",
       "</style>\n",
       "<table border=\"1\" class=\"dataframe\">\n",
       "  <thead>\n",
       "    <tr style=\"text-align: right;\">\n",
       "      <th></th>\n",
       "      <th>DT</th>\n",
       "      <th>ST</th>\n",
       "    </tr>\n",
       "  </thead>\n",
       "  <tbody>\n",
       "    <tr>\n",
       "      <th>0</th>\n",
       "      <td>21.00</td>\n",
       "      <td>10</td>\n",
       "    </tr>\n",
       "    <tr>\n",
       "      <th>1</th>\n",
       "      <td>13.50</td>\n",
       "      <td>4</td>\n",
       "    </tr>\n",
       "    <tr>\n",
       "      <th>2</th>\n",
       "      <td>19.75</td>\n",
       "      <td>6</td>\n",
       "    </tr>\n",
       "    <tr>\n",
       "      <th>3</th>\n",
       "      <td>24.00</td>\n",
       "      <td>9</td>\n",
       "    </tr>\n",
       "    <tr>\n",
       "      <th>4</th>\n",
       "      <td>29.00</td>\n",
       "      <td>10</td>\n",
       "    </tr>\n",
       "    <tr>\n",
       "      <th>5</th>\n",
       "      <td>15.35</td>\n",
       "      <td>6</td>\n",
       "    </tr>\n",
       "    <tr>\n",
       "      <th>6</th>\n",
       "      <td>19.00</td>\n",
       "      <td>7</td>\n",
       "    </tr>\n",
       "    <tr>\n",
       "      <th>7</th>\n",
       "      <td>9.50</td>\n",
       "      <td>3</td>\n",
       "    </tr>\n",
       "    <tr>\n",
       "      <th>8</th>\n",
       "      <td>17.90</td>\n",
       "      <td>10</td>\n",
       "    </tr>\n",
       "    <tr>\n",
       "      <th>9</th>\n",
       "      <td>18.75</td>\n",
       "      <td>9</td>\n",
       "    </tr>\n",
       "    <tr>\n",
       "      <th>10</th>\n",
       "      <td>19.83</td>\n",
       "      <td>8</td>\n",
       "    </tr>\n",
       "    <tr>\n",
       "      <th>11</th>\n",
       "      <td>10.75</td>\n",
       "      <td>4</td>\n",
       "    </tr>\n",
       "    <tr>\n",
       "      <th>12</th>\n",
       "      <td>16.68</td>\n",
       "      <td>7</td>\n",
       "    </tr>\n",
       "    <tr>\n",
       "      <th>13</th>\n",
       "      <td>11.50</td>\n",
       "      <td>3</td>\n",
       "    </tr>\n",
       "    <tr>\n",
       "      <th>14</th>\n",
       "      <td>12.03</td>\n",
       "      <td>3</td>\n",
       "    </tr>\n",
       "    <tr>\n",
       "      <th>15</th>\n",
       "      <td>14.88</td>\n",
       "      <td>4</td>\n",
       "    </tr>\n",
       "    <tr>\n",
       "      <th>16</th>\n",
       "      <td>13.75</td>\n",
       "      <td>6</td>\n",
       "    </tr>\n",
       "    <tr>\n",
       "      <th>17</th>\n",
       "      <td>18.11</td>\n",
       "      <td>7</td>\n",
       "    </tr>\n",
       "    <tr>\n",
       "      <th>18</th>\n",
       "      <td>8.00</td>\n",
       "      <td>2</td>\n",
       "    </tr>\n",
       "    <tr>\n",
       "      <th>19</th>\n",
       "      <td>17.83</td>\n",
       "      <td>7</td>\n",
       "    </tr>\n",
       "    <tr>\n",
       "      <th>20</th>\n",
       "      <td>21.50</td>\n",
       "      <td>5</td>\n",
       "    </tr>\n",
       "  </tbody>\n",
       "</table>\n",
       "</div>"
      ],
      "text/plain": [
       "       DT  ST\n",
       "0   21.00  10\n",
       "1   13.50   4\n",
       "2   19.75   6\n",
       "3   24.00   9\n",
       "4   29.00  10\n",
       "5   15.35   6\n",
       "6   19.00   7\n",
       "7    9.50   3\n",
       "8   17.90  10\n",
       "9   18.75   9\n",
       "10  19.83   8\n",
       "11  10.75   4\n",
       "12  16.68   7\n",
       "13  11.50   3\n",
       "14  12.03   3\n",
       "15  14.88   4\n",
       "16  13.75   6\n",
       "17  18.11   7\n",
       "18   8.00   2\n",
       "19  17.83   7\n",
       "20  21.50   5"
      ]
     },
     "execution_count": 23,
     "metadata": {},
     "output_type": "execute_result"
    }
   ],
   "source": [
    "data1"
   ]
  },
  {
   "cell_type": "code",
   "execution_count": 24,
   "metadata": {
    "execution": {
     "iopub.execute_input": "2020-11-23T14:28:08.943556Z",
     "iopub.status.busy": "2020-11-23T14:28:08.942605Z",
     "iopub.status.idle": "2020-11-23T14:28:09.241121Z",
     "shell.execute_reply": "2020-11-23T14:28:09.240443Z"
    },
    "papermill": {
     "duration": 0.356514,
     "end_time": "2020-11-23T14:28:09.241297",
     "exception": false,
     "start_time": "2020-11-23T14:28:08.884783",
     "status": "completed"
    },
    "tags": []
   },
   "outputs": [],
   "source": [
    "import statsmodels.formula.api as smf\n",
    "model = smf.ols(\"DT~ST\",data = data1).fit()"
   ]
  },
  {
   "cell_type": "code",
   "execution_count": 25,
   "metadata": {
    "execution": {
     "iopub.execute_input": "2020-11-23T14:28:09.363899Z",
     "iopub.status.busy": "2020-11-23T14:28:09.363116Z",
     "iopub.status.idle": "2020-11-23T14:28:09.691004Z",
     "shell.execute_reply": "2020-11-23T14:28:09.690139Z"
    },
    "papermill": {
     "duration": 0.392334,
     "end_time": "2020-11-23T14:28:09.691143",
     "exception": false,
     "start_time": "2020-11-23T14:28:09.298809",
     "status": "completed"
    },
    "tags": []
   },
   "outputs": [
    {
     "data": {
      "image/png": "[encoded data removed]",
      "text/plain": [
       "<Figure size 432x288 with 1 Axes>"
      ]
     },
     "metadata": {
      "needs_background": "light"
     },
     "output_type": "display_data"
    }
   ],
   "source": [
    "sns.regplot(x=\"ST\", y=\"DT\", data=data1);"
   ]
  },
  {
   "cell_type": "code",
   "execution_count": 26,
   "metadata": {
    "execution": {
     "iopub.execute_input": "2020-11-23T14:28:09.814049Z",
     "iopub.status.busy": "2020-11-23T14:28:09.812960Z",
     "iopub.status.idle": "2020-11-23T14:28:09.817272Z",
     "shell.execute_reply": "2020-11-23T14:28:09.817896Z"
    },
    "papermill": {
     "duration": 0.069293,
     "end_time": "2020-11-23T14:28:09.818071",
     "exception": false,
     "start_time": "2020-11-23T14:28:09.748778",
     "status": "completed"
    },
    "tags": []
   },
   "outputs": [
    {
     "data": {
      "text/plain": [
       "Intercept    6.582734\n",
       "ST           1.649020\n",
       "dtype: float64"
      ]
     },
     "execution_count": 26,
     "metadata": {},
     "output_type": "execute_result"
    }
   ],
   "source": [
    "#Coefficients\n",
    "model.params"
   ]
  },
  {
   "cell_type": "code",
   "execution_count": 27,
   "metadata": {
    "execution": {
     "iopub.execute_input": "2020-11-23T14:28:09.942783Z",
     "iopub.status.busy": "2020-11-23T14:28:09.939501Z",
     "iopub.status.idle": "2020-11-23T14:28:09.949340Z",
     "shell.execute_reply": "2020-11-23T14:28:09.948677Z"
    },
    "papermill": {
     "duration": 0.073556,
     "end_time": "2020-11-23T14:28:09.949470",
     "exception": false,
     "start_time": "2020-11-23T14:28:09.875914",
     "status": "completed"
    },
    "tags": []
   },
   "outputs": [
    {
     "name": "stdout",
     "output_type": "stream",
     "text": [
      "Intercept    3.823349\n",
      "ST           6.387447\n",
      "dtype: float64 \n",
      " Intercept    0.001147\n",
      "ST           0.000004\n",
      "dtype: float64\n"
     ]
    }
   ],
   "source": [
    "#t and p-Values\n",
    "print(model.tvalues, '\\n', model.pvalues)    "
   ]
  },
  {
   "cell_type": "code",
   "execution_count": 28,
   "metadata": {
    "execution": {
     "iopub.execute_input": "2020-11-23T14:28:10.060147Z",
     "iopub.status.busy": "2020-11-23T14:28:10.059025Z",
     "iopub.status.idle": "2020-11-23T14:28:10.063609Z",
     "shell.execute_reply": "2020-11-23T14:28:10.062846Z"
    },
    "papermill": {
     "duration": 0.062139,
     "end_time": "2020-11-23T14:28:10.063736",
     "exception": false,
     "start_time": "2020-11-23T14:28:10.001597",
     "status": "completed"
    },
    "tags": []
   },
   "outputs": [
    {
     "data": {
      "text/plain": [
       "(0.6822714748417231, 0.6655489208860244)"
      ]
     },
     "execution_count": 28,
     "metadata": {},
     "output_type": "execute_result"
    }
   ],
   "source": [
    "#R squared values\n",
    "(model.rsquared,model.rsquared_adj)"
   ]
  },
  {
   "cell_type": "code",
   "execution_count": 29,
   "metadata": {
    "execution": {
     "iopub.execute_input": "2020-11-23T14:28:10.177898Z",
     "iopub.status.busy": "2020-11-23T14:28:10.177020Z",
     "iopub.status.idle": "2020-11-23T14:28:10.304573Z",
     "shell.execute_reply": "2020-11-23T14:28:10.303724Z"
    },
    "papermill": {
     "duration": 0.186881,
     "end_time": "2020-11-23T14:28:10.304708",
     "exception": false,
     "start_time": "2020-11-23T14:28:10.117827",
     "status": "completed"
    },
    "tags": []
   },
   "outputs": [
    {
     "data": {
      "text/html": [
       "<table class=\"simpletable\">\n",
       "<caption>OLS Regression Results</caption>\n",
       "<tr>\n",
       "  <th>Dep. Variable:</th>           <td>DT</td>        <th>  R-squared:         </th> <td>   0.682</td>\n",
       "</tr>\n",
       "<tr>\n",
       "  <th>Model:</th>                   <td>OLS</td>       <th>  Adj. R-squared:    </th> <td>   0.666</td>\n",
       "</tr>\n",
       "<tr>\n",
       "  <th>Method:</th>             <td>Least Squares</td>  <th>  F-statistic:       </th> <td>   40.80</td>\n",
       "</tr>\n",
       "<tr>\n",
       "  <th>Date:</th>             <td>Mon, 23 Nov 2020</td> <th>  Prob (F-statistic):</th> <td>3.98e-06</td>\n",
       "</tr>\n",
       "<tr>\n",
       "  <th>Time:</th>                 <td>14:28:10</td>     <th>  Log-Likelihood:    </th> <td> -51.357</td>\n",
       "</tr>\n",
       "<tr>\n",
       "  <th>No. Observations:</th>      <td>    21</td>      <th>  AIC:               </th> <td>   106.7</td>\n",
       "</tr>\n",
       "<tr>\n",
       "  <th>Df Residuals:</th>          <td>    19</td>      <th>  BIC:               </th> <td>   108.8</td>\n",
       "</tr>\n",
       "<tr>\n",
       "  <th>Df Model:</th>              <td>     1</td>      <th>                     </th>     <td> </td>   \n",
       "</tr>\n",
       "<tr>\n",
       "  <th>Covariance Type:</th>      <td>nonrobust</td>    <th>                     </th>     <td> </td>   \n",
       "</tr>\n",
       "</table>\n",
       "<table class=\"simpletable\">\n",
       "<tr>\n",
       "      <td></td>         <th>coef</th>     <th>std err</th>      <th>t</th>      <th>P>|t|</th>  <th>[0.025</th>    <th>0.975]</th>  \n",
       "</tr>\n",
       "<tr>\n",
       "  <th>Intercept</th> <td>    6.5827</td> <td>    1.722</td> <td>    3.823</td> <td> 0.001</td> <td>    2.979</td> <td>   10.186</td>\n",
       "</tr>\n",
       "<tr>\n",
       "  <th>ST</th>        <td>    1.6490</td> <td>    0.258</td> <td>    6.387</td> <td> 0.000</td> <td>    1.109</td> <td>    2.189</td>\n",
       "</tr>\n",
       "</table>\n",
       "<table class=\"simpletable\">\n",
       "<tr>\n",
       "  <th>Omnibus:</th>       <td> 3.649</td> <th>  Durbin-Watson:     </th> <td>   1.248</td>\n",
       "</tr>\n",
       "<tr>\n",
       "  <th>Prob(Omnibus):</th> <td> 0.161</td> <th>  Jarque-Bera (JB):  </th> <td>   2.086</td>\n",
       "</tr>\n",
       "<tr>\n",
       "  <th>Skew:</th>          <td> 0.750</td> <th>  Prob(JB):          </th> <td>   0.352</td>\n",
       "</tr>\n",
       "<tr>\n",
       "  <th>Kurtosis:</th>      <td> 3.367</td> <th>  Cond. No.          </th> <td>    18.3</td>\n",
       "</tr>\n",
       "</table><br/><br/>Warnings:<br/>[1] Standard Errors assume that the covariance matrix of the errors is correctly specified."
      ],
      "text/plain": [
       "<class 'statsmodels.iolib.summary.Summary'>\n",
       "\"\"\"\n",
       "                            OLS Regression Results                            \n",
       "==============================================================================\n",
       "Dep. Variable:                     DT   R-squared:                       0.682\n",
       "Model:                            OLS   Adj. R-squared:                  0.666\n",
       "Method:                 Least Squares   F-statistic:                     40.80\n",
       "Date:                Mon, 23 Nov 2020   Prob (F-statistic):           3.98e-06\n",
       "Time:                        14:28:10   Log-Likelihood:                -51.357\n",
       "No. Observations:                  21   AIC:                             106.7\n",
       "Df Residuals:                      19   BIC:                             108.8\n",
       "Df Model:                           1                                         \n",
       "Covariance Type:            nonrobust                                         \n",
       "==============================================================================\n",
       "                 coef    std err          t      P>|t|      [0.025      0.975]\n",
       "------------------------------------------------------------------------------\n",
       "Intercept      6.5827      1.722      3.823      0.001       2.979      10.186\n",
       "ST             1.6490      0.258      6.387      0.000       1.109       2.189\n",
       "==============================================================================\n",
       "Omnibus:                        3.649   Durbin-Watson:                   1.248\n",
       "Prob(Omnibus):                  0.161   Jarque-Bera (JB):                2.086\n",
       "Skew:                           0.750   Prob(JB):                        0.352\n",
       "Kurtosis:                       3.367   Cond. No.                         18.3\n",
       "==============================================================================\n",
       "\n",
       "Warnings:\n",
       "[1] Standard Errors assume that the covariance matrix of the errors is correctly specified.\n",
       "\"\"\""
      ]
     },
     "execution_count": 29,
     "metadata": {},
     "output_type": "execute_result"
    }
   ],
   "source": [
    "model.summary()"
   ]
  },
  {
   "cell_type": "code",
   "execution_count": 30,
   "metadata": {
    "execution": {
     "iopub.execute_input": "2020-11-23T14:28:10.432000Z",
     "iopub.status.busy": "2020-11-23T14:28:10.431165Z",
     "iopub.status.idle": "2020-11-23T14:28:10.827195Z",
     "shell.execute_reply": "2020-11-23T14:28:10.826483Z"
    },
    "papermill": {
     "duration": 0.466979,
     "end_time": "2020-11-23T14:28:10.827344",
     "exception": false,
     "start_time": "2020-11-23T14:28:10.360365",
     "status": "completed"
    },
    "tags": []
   },
   "outputs": [
    {
     "data": {
      "image/png": "[encoded data removed]",
      "text/plain": [
       "<Figure size 432x288 with 1 Axes>"
      ]
     },
     "metadata": {
      "needs_background": "light"
     },
     "output_type": "display_data"
    },
    {
     "data": {
      "image/png": "[encoded data removed]",
      "text/plain": [
       "<Figure size 432x288 with 1 Axes>"
      ]
     },
     "metadata": {
      "needs_background": "light"
     },
     "output_type": "display_data"
    },
    {
     "data": {
      "text/plain": [
       "<Figure size 432x288 with 0 Axes>"
      ]
     },
     "metadata": {},
     "output_type": "display_data"
    }
   ],
   "source": [
    "data_1=data1\n",
    "data_1['DT'] = np.log(data_1['DT'])\n",
    "data_1['ST'] = np.log(data_1['ST'])\n",
    "sns.distplot(data_1['DT'])\n",
    "fig = plt.figure()\n",
    "sns.distplot(data_1['ST'])\n",
    "fig = plt.figure()\n"
   ]
  },
  {
   "cell_type": "code",
   "execution_count": 31,
   "metadata": {
    "execution": {
     "iopub.execute_input": "2020-11-23T14:28:10.954590Z",
     "iopub.status.busy": "2020-11-23T14:28:10.953795Z",
     "iopub.status.idle": "2020-11-23T14:28:10.957886Z",
     "shell.execute_reply": "2020-11-23T14:28:10.956982Z"
    },
    "papermill": {
     "duration": 0.073599,
     "end_time": "2020-11-23T14:28:10.958019",
     "exception": false,
     "start_time": "2020-11-23T14:28:10.884420",
     "status": "completed"
    },
    "tags": []
   },
   "outputs": [],
   "source": [
    "model_2 = smf.ols(\"ST~DT\",data = data_1).fit()"
   ]
  },
  {
   "cell_type": "code",
   "execution_count": 32,
   "metadata": {
    "execution": {
     "iopub.execute_input": "2020-11-23T14:28:11.095977Z",
     "iopub.status.busy": "2020-11-23T14:28:11.082912Z",
     "iopub.status.idle": "2020-11-23T14:28:11.101394Z",
     "shell.execute_reply": "2020-11-23T14:28:11.100615Z"
    },
    "papermill": {
     "duration": 0.085511,
     "end_time": "2020-11-23T14:28:11.101523",
     "exception": false,
     "start_time": "2020-11-23T14:28:11.016012",
     "status": "completed"
    },
    "tags": []
   },
   "outputs": [
    {
     "data": {
      "text/html": [
       "<table class=\"simpletable\">\n",
       "<caption>OLS Regression Results</caption>\n",
       "<tr>\n",
       "  <th>Dep. Variable:</th>           <td>ST</td>        <th>  R-squared:         </th> <td>   0.772</td>\n",
       "</tr>\n",
       "<tr>\n",
       "  <th>Model:</th>                   <td>OLS</td>       <th>  Adj. R-squared:    </th> <td>   0.760</td>\n",
       "</tr>\n",
       "<tr>\n",
       "  <th>Method:</th>             <td>Least Squares</td>  <th>  F-statistic:       </th> <td>   64.39</td>\n",
       "</tr>\n",
       "<tr>\n",
       "  <th>Date:</th>             <td>Mon, 23 Nov 2020</td> <th>  Prob (F-statistic):</th> <td>1.60e-07</td>\n",
       "</tr>\n",
       "<tr>\n",
       "  <th>Time:</th>                 <td>14:28:11</td>     <th>  Log-Likelihood:    </th> <td>  2.1913</td>\n",
       "</tr>\n",
       "<tr>\n",
       "  <th>No. Observations:</th>      <td>    21</td>      <th>  AIC:               </th> <td> -0.3826</td>\n",
       "</tr>\n",
       "<tr>\n",
       "  <th>Df Residuals:</th>          <td>    19</td>      <th>  BIC:               </th> <td>   1.706</td>\n",
       "</tr>\n",
       "<tr>\n",
       "  <th>Df Model:</th>              <td>     1</td>      <th>                     </th>     <td> </td>   \n",
       "</tr>\n",
       "<tr>\n",
       "  <th>Covariance Type:</th>      <td>nonrobust</td>    <th>                     </th>     <td> </td>   \n",
       "</tr>\n",
       "</table>\n",
       "<table class=\"simpletable\">\n",
       "<tr>\n",
       "      <td></td>         <th>coef</th>     <th>std err</th>      <th>t</th>      <th>P>|t|</th>  <th>[0.025</th>    <th>0.975]</th>  \n",
       "</tr>\n",
       "<tr>\n",
       "  <th>Intercept</th> <td>   -1.8573</td> <td>    0.450</td> <td>   -4.131</td> <td> 0.001</td> <td>   -2.798</td> <td>   -0.916</td>\n",
       "</tr>\n",
       "<tr>\n",
       "  <th>DT</th>        <td>    1.2923</td> <td>    0.161</td> <td>    8.024</td> <td> 0.000</td> <td>    0.955</td> <td>    1.629</td>\n",
       "</tr>\n",
       "</table>\n",
       "<table class=\"simpletable\">\n",
       "<tr>\n",
       "  <th>Omnibus:</th>       <td> 0.197</td> <th>  Durbin-Watson:     </th> <td>   1.365</td>\n",
       "</tr>\n",
       "<tr>\n",
       "  <th>Prob(Omnibus):</th> <td> 0.906</td> <th>  Jarque-Bera (JB):  </th> <td>   0.258</td>\n",
       "</tr>\n",
       "<tr>\n",
       "  <th>Skew:</th>          <td>-0.192</td> <th>  Prob(JB):          </th> <td>   0.879</td>\n",
       "</tr>\n",
       "<tr>\n",
       "  <th>Kurtosis:</th>      <td> 2.617</td> <th>  Cond. No.          </th> <td>    28.3</td>\n",
       "</tr>\n",
       "</table><br/><br/>Warnings:<br/>[1] Standard Errors assume that the covariance matrix of the errors is correctly specified."
      ],
      "text/plain": [
       "<class 'statsmodels.iolib.summary.Summary'>\n",
       "\"\"\"\n",
       "                            OLS Regression Results                            \n",
       "==============================================================================\n",
       "Dep. Variable:                     ST   R-squared:                       0.772\n",
       "Model:                            OLS   Adj. R-squared:                  0.760\n",
       "Method:                 Least Squares   F-statistic:                     64.39\n",
       "Date:                Mon, 23 Nov 2020   Prob (F-statistic):           1.60e-07\n",
       "Time:                        14:28:11   Log-Likelihood:                 2.1913\n",
       "No. Observations:                  21   AIC:                           -0.3826\n",
       "Df Residuals:                      19   BIC:                             1.706\n",
       "Df Model:                           1                                         \n",
       "Covariance Type:            nonrobust                                         \n",
       "==============================================================================\n",
       "                 coef    std err          t      P>|t|      [0.025      0.975]\n",
       "------------------------------------------------------------------------------\n",
       "Intercept     -1.8573      0.450     -4.131      0.001      -2.798      -0.916\n",
       "DT             1.2923      0.161      8.024      0.000       0.955       1.629\n",
       "==============================================================================\n",
       "Omnibus:                        0.197   Durbin-Watson:                   1.365\n",
       "Prob(Omnibus):                  0.906   Jarque-Bera (JB):                0.258\n",
       "Skew:                          -0.192   Prob(JB):                        0.879\n",
       "Kurtosis:                       2.617   Cond. No.                         28.3\n",
       "==============================================================================\n",
       "\n",
       "Warnings:\n",
       "[1] Standard Errors assume that the covariance matrix of the errors is correctly specified.\n",
       "\"\"\""
      ]
     },
     "execution_count": 32,
     "metadata": {},
     "output_type": "execute_result"
    }
   ],
   "source": [
    "model_2.summary()"
   ]
  },
  {
   "cell_type": "code",
   "execution_count": 33,
   "metadata": {
    "execution": {
     "iopub.execute_input": "2020-11-23T14:28:11.237044Z",
     "iopub.status.busy": "2020-11-23T14:28:11.235701Z",
     "iopub.status.idle": "2020-11-23T14:28:11.630377Z",
     "shell.execute_reply": "2020-11-23T14:28:11.629531Z"
    },
    "papermill": {
     "duration": 0.465499,
     "end_time": "2020-11-23T14:28:11.630511",
     "exception": false,
     "start_time": "2020-11-23T14:28:11.165012",
     "status": "completed"
    },
    "tags": []
   },
   "outputs": [
    {
     "data": {
      "image/png": "[encoded data removed]",
      "text/plain": [
       "<Figure size 432x288 with 1 Axes>"
      ]
     },
     "metadata": {
      "needs_background": "light"
     },
     "output_type": "display_data"
    },
    {
     "data": {
      "image/png": "[encoded data removed]",
      "text/plain": [
       "<Figure size 432x288 with 1 Axes>"
      ]
     },
     "metadata": {
      "needs_background": "light"
     },
     "output_type": "display_data"
    },
    {
     "data": {
      "text/plain": [
       "<Figure size 432x288 with 0 Axes>"
      ]
     },
     "metadata": {},
     "output_type": "display_data"
    }
   ],
   "source": [
    "data_2=data1\n",
    "data_1['DT'] = np.log(data_1['DT'])\n",
    "sns.distplot(data_1['DT'])\n",
    "fig = plt.figure()\n",
    "sns.distplot(data_1['ST'])\n",
    "fig = plt.figure()\n"
   ]
  },
  {
   "cell_type": "code",
   "execution_count": 34,
   "metadata": {
    "execution": {
     "iopub.execute_input": "2020-11-23T14:28:11.779879Z",
     "iopub.status.busy": "2020-11-23T14:28:11.778844Z",
     "iopub.status.idle": "2020-11-23T14:28:11.781304Z",
     "shell.execute_reply": "2020-11-23T14:28:11.781947Z"
    },
    "papermill": {
     "duration": 0.083508,
     "end_time": "2020-11-23T14:28:11.782109",
     "exception": false,
     "start_time": "2020-11-23T14:28:11.698601",
     "status": "completed"
    },
    "tags": []
   },
   "outputs": [],
   "source": [
    "model_3 = smf.ols(\"ST~DT\",data = data_2).fit()"
   ]
  },
  {
   "cell_type": "code",
   "execution_count": 35,
   "metadata": {
    "execution": {
     "iopub.execute_input": "2020-11-23T14:28:11.937255Z",
     "iopub.status.busy": "2020-11-23T14:28:11.924460Z",
     "iopub.status.idle": "2020-11-23T14:28:11.944110Z",
     "shell.execute_reply": "2020-11-23T14:28:11.943341Z"
    },
    "papermill": {
     "duration": 0.095083,
     "end_time": "2020-11-23T14:28:11.944267",
     "exception": false,
     "start_time": "2020-11-23T14:28:11.849184",
     "status": "completed"
    },
    "tags": []
   },
   "outputs": [
    {
     "data": {
      "text/html": [
       "<table class=\"simpletable\">\n",
       "<caption>OLS Regression Results</caption>\n",
       "<tr>\n",
       "  <th>Dep. Variable:</th>           <td>ST</td>        <th>  R-squared:         </th> <td>   0.785</td>\n",
       "</tr>\n",
       "<tr>\n",
       "  <th>Model:</th>                   <td>OLS</td>       <th>  Adj. R-squared:    </th> <td>   0.774</td>\n",
       "</tr>\n",
       "<tr>\n",
       "  <th>Method:</th>             <td>Least Squares</td>  <th>  F-statistic:       </th> <td>   69.40</td>\n",
       "</tr>\n",
       "<tr>\n",
       "  <th>Date:</th>             <td>Mon, 23 Nov 2020</td> <th>  Prob (F-statistic):</th> <td>9.13e-08</td>\n",
       "</tr>\n",
       "<tr>\n",
       "  <th>Time:</th>                 <td>14:28:11</td>     <th>  Log-Likelihood:    </th> <td>  2.8038</td>\n",
       "</tr>\n",
       "<tr>\n",
       "  <th>No. Observations:</th>      <td>    21</td>      <th>  AIC:               </th> <td>  -1.608</td>\n",
       "</tr>\n",
       "<tr>\n",
       "  <th>Df Residuals:</th>          <td>    19</td>      <th>  BIC:               </th> <td>  0.4814</td>\n",
       "</tr>\n",
       "<tr>\n",
       "  <th>Df Model:</th>              <td>     1</td>      <th>                     </th>     <td> </td>   \n",
       "</tr>\n",
       "<tr>\n",
       "  <th>Covariance Type:</th>      <td>nonrobust</td>    <th>                     </th>     <td> </td>   \n",
       "</tr>\n",
       "</table>\n",
       "<table class=\"simpletable\">\n",
       "<tr>\n",
       "      <td></td>         <th>coef</th>     <th>std err</th>      <th>t</th>      <th>P>|t|</th>  <th>[0.025</th>    <th>0.975]</th>  \n",
       "</tr>\n",
       "<tr>\n",
       "  <th>Intercept</th> <td>   -1.8026</td> <td>    0.427</td> <td>   -4.225</td> <td> 0.000</td> <td>   -2.696</td> <td>   -0.910</td>\n",
       "</tr>\n",
       "<tr>\n",
       "  <th>DT</th>        <td>    3.4823</td> <td>    0.418</td> <td>    8.331</td> <td> 0.000</td> <td>    2.607</td> <td>    4.357</td>\n",
       "</tr>\n",
       "</table>\n",
       "<table class=\"simpletable\">\n",
       "<tr>\n",
       "  <th>Omnibus:</th>       <td> 0.491</td> <th>  Durbin-Watson:     </th> <td>   1.273</td>\n",
       "</tr>\n",
       "<tr>\n",
       "  <th>Prob(Omnibus):</th> <td> 0.782</td> <th>  Jarque-Bera (JB):  </th> <td>   0.353</td>\n",
       "</tr>\n",
       "<tr>\n",
       "  <th>Skew:</th>          <td>-0.289</td> <th>  Prob(JB):          </th> <td>   0.838</td>\n",
       "</tr>\n",
       "<tr>\n",
       "  <th>Kurtosis:</th>      <td> 2.737</td> <th>  Cond. No.          </th> <td>    17.5</td>\n",
       "</tr>\n",
       "</table><br/><br/>Warnings:<br/>[1] Standard Errors assume that the covariance matrix of the errors is correctly specified."
      ],
      "text/plain": [
       "<class 'statsmodels.iolib.summary.Summary'>\n",
       "\"\"\"\n",
       "                            OLS Regression Results                            \n",
       "==============================================================================\n",
       "Dep. Variable:                     ST   R-squared:                       0.785\n",
       "Model:                            OLS   Adj. R-squared:                  0.774\n",
       "Method:                 Least Squares   F-statistic:                     69.40\n",
       "Date:                Mon, 23 Nov 2020   Prob (F-statistic):           9.13e-08\n",
       "Time:                        14:28:11   Log-Likelihood:                 2.8038\n",
       "No. Observations:                  21   AIC:                            -1.608\n",
       "Df Residuals:                      19   BIC:                            0.4814\n",
       "Df Model:                           1                                         \n",
       "Covariance Type:            nonrobust                                         \n",
       "==============================================================================\n",
       "                 coef    std err          t      P>|t|      [0.025      0.975]\n",
       "------------------------------------------------------------------------------\n",
       "Intercept     -1.8026      0.427     -4.225      0.000      -2.696      -0.910\n",
       "DT             3.4823      0.418      8.331      0.000       2.607       4.357\n",
       "==============================================================================\n",
       "Omnibus:                        0.491   Durbin-Watson:                   1.273\n",
       "Prob(Omnibus):                  0.782   Jarque-Bera (JB):                0.353\n",
       "Skew:                          -0.289   Prob(JB):                        0.838\n",
       "Kurtosis:                       2.737   Cond. No.                         17.5\n",
       "==============================================================================\n",
       "\n",
       "Warnings:\n",
       "[1] Standard Errors assume that the covariance matrix of the errors is correctly specified.\n",
       "\"\"\""
      ]
     },
     "execution_count": 35,
     "metadata": {},
     "output_type": "execute_result"
    }
   ],
   "source": [
    "model_3.summary()"
   ]
  },
  {
   "cell_type": "code",
   "execution_count": 36,
   "metadata": {
    "execution": {
     "iopub.execute_input": "2020-11-23T14:28:12.082014Z",
     "iopub.status.busy": "2020-11-23T14:28:12.076744Z",
     "iopub.status.idle": "2020-11-23T14:28:12.479559Z",
     "shell.execute_reply": "2020-11-23T14:28:12.478814Z"
    },
    "papermill": {
     "duration": 0.472804,
     "end_time": "2020-11-23T14:28:12.479691",
     "exception": false,
     "start_time": "2020-11-23T14:28:12.006887",
     "status": "completed"
    },
    "tags": []
   },
   "outputs": [
    {
     "data": {
      "image/png": "[encoded data removed]",
      "text/plain": [
       "<Figure size 432x288 with 1 Axes>"
      ]
     },
     "metadata": {
      "needs_background": "light"
     },
     "output_type": "display_data"
    },
    {
     "data": {
      "image/png": "[encoded data removed]",
      "text/plain": [
       "<Figure size 432x288 with 1 Axes>"
      ]
     },
     "metadata": {
      "needs_background": "light"
     },
     "output_type": "display_data"
    },
    {
     "data": {
      "text/plain": [
       "<Figure size 432x288 with 0 Axes>"
      ]
     },
     "metadata": {},
     "output_type": "display_data"
    }
   ],
   "source": [
    "data_3=data1\n",
    "data_1['ST'] = np.log(data_1['ST'])\n",
    "sns.distplot(data_1['DT'])\n",
    "fig = plt.figure()\n",
    "sns.distplot(data_1['ST'])\n",
    "fig = plt.figure()\n"
   ]
  },
  {
   "cell_type": "code",
   "execution_count": 37,
   "metadata": {
    "execution": {
     "iopub.execute_input": "2020-11-23T14:28:12.622287Z",
     "iopub.status.busy": "2020-11-23T14:28:12.621297Z",
     "iopub.status.idle": "2020-11-23T14:28:12.624909Z",
     "shell.execute_reply": "2020-11-23T14:28:12.624111Z"
    },
    "papermill": {
     "duration": 0.080628,
     "end_time": "2020-11-23T14:28:12.625038",
     "exception": false,
     "start_time": "2020-11-23T14:28:12.544410",
     "status": "completed"
    },
    "tags": []
   },
   "outputs": [],
   "source": [
    "model_4 = smf.ols(\"ST~DT\",data = data_3).fit()"
   ]
  },
  {
   "cell_type": "code",
   "execution_count": 38,
   "metadata": {
    "execution": {
     "iopub.execute_input": "2020-11-23T14:28:12.767172Z",
     "iopub.status.busy": "2020-11-23T14:28:12.761573Z",
     "iopub.status.idle": "2020-11-23T14:28:12.777969Z",
     "shell.execute_reply": "2020-11-23T14:28:12.778631Z"
    },
    "papermill": {
     "duration": 0.090578,
     "end_time": "2020-11-23T14:28:12.778818",
     "exception": false,
     "start_time": "2020-11-23T14:28:12.688240",
     "status": "completed"
    },
    "tags": []
   },
   "outputs": [
    {
     "data": {
      "text/html": [
       "<table class=\"simpletable\">\n",
       "<caption>OLS Regression Results</caption>\n",
       "<tr>\n",
       "  <th>Dep. Variable:</th>           <td>ST</td>        <th>  R-squared:         </th> <td>   0.803</td>\n",
       "</tr>\n",
       "<tr>\n",
       "  <th>Model:</th>                   <td>OLS</td>       <th>  Adj. R-squared:    </th> <td>   0.792</td>\n",
       "</tr>\n",
       "<tr>\n",
       "  <th>Method:</th>             <td>Least Squares</td>  <th>  F-statistic:       </th> <td>   77.21</td>\n",
       "</tr>\n",
       "<tr>\n",
       "  <th>Date:</th>             <td>Mon, 23 Nov 2020</td> <th>  Prob (F-statistic):</th> <td>4.05e-08</td>\n",
       "</tr>\n",
       "<tr>\n",
       "  <th>Time:</th>                 <td>14:28:12</td>     <th>  Log-Likelihood:    </th> <td>  11.820</td>\n",
       "</tr>\n",
       "<tr>\n",
       "  <th>No. Observations:</th>      <td>    21</td>      <th>  AIC:               </th> <td>  -19.64</td>\n",
       "</tr>\n",
       "<tr>\n",
       "  <th>Df Residuals:</th>          <td>    19</td>      <th>  BIC:               </th> <td>  -17.55</td>\n",
       "</tr>\n",
       "<tr>\n",
       "  <th>Df Model:</th>              <td>     1</td>      <th>                     </th>     <td> </td>   \n",
       "</tr>\n",
       "<tr>\n",
       "  <th>Covariance Type:</th>      <td>nonrobust</td>    <th>                     </th>     <td> </td>   \n",
       "</tr>\n",
       "</table>\n",
       "<table class=\"simpletable\">\n",
       "<tr>\n",
       "      <td></td>         <th>coef</th>     <th>std err</th>      <th>t</th>      <th>P>|t|</th>  <th>[0.025</th>    <th>0.975]</th>  \n",
       "</tr>\n",
       "<tr>\n",
       "  <th>Intercept</th> <td>   -1.9199</td> <td>    0.278</td> <td>   -6.913</td> <td> 0.000</td> <td>   -2.501</td> <td>   -1.339</td>\n",
       "</tr>\n",
       "<tr>\n",
       "  <th>DT</th>        <td>    2.3908</td> <td>    0.272</td> <td>    8.787</td> <td> 0.000</td> <td>    1.821</td> <td>    2.960</td>\n",
       "</tr>\n",
       "</table>\n",
       "<table class=\"simpletable\">\n",
       "<tr>\n",
       "  <th>Omnibus:</th>       <td> 1.317</td> <th>  Durbin-Watson:     </th> <td>   1.506</td>\n",
       "</tr>\n",
       "<tr>\n",
       "  <th>Prob(Omnibus):</th> <td> 0.518</td> <th>  Jarque-Bera (JB):  </th> <td>   0.968</td>\n",
       "</tr>\n",
       "<tr>\n",
       "  <th>Skew:</th>          <td>-0.237</td> <th>  Prob(JB):          </th> <td>   0.616</td>\n",
       "</tr>\n",
       "<tr>\n",
       "  <th>Kurtosis:</th>      <td> 2.061</td> <th>  Cond. No.          </th> <td>    17.5</td>\n",
       "</tr>\n",
       "</table><br/><br/>Warnings:<br/>[1] Standard Errors assume that the covariance matrix of the errors is correctly specified."
      ],
      "text/plain": [
       "<class 'statsmodels.iolib.summary.Summary'>\n",
       "\"\"\"\n",
       "                            OLS Regression Results                            \n",
       "==============================================================================\n",
       "Dep. Variable:                     ST   R-squared:                       0.803\n",
       "Model:                            OLS   Adj. R-squared:                  0.792\n",
       "Method:                 Least Squares   F-statistic:                     77.21\n",
       "Date:                Mon, 23 Nov 2020   Prob (F-statistic):           4.05e-08\n",
       "Time:                        14:28:12   Log-Likelihood:                 11.820\n",
       "No. Observations:                  21   AIC:                            -19.64\n",
       "Df Residuals:                      19   BIC:                            -17.55\n",
       "Df Model:                           1                                         \n",
       "Covariance Type:            nonrobust                                         \n",
       "==============================================================================\n",
       "                 coef    std err          t      P>|t|      [0.025      0.975]\n",
       "------------------------------------------------------------------------------\n",
       "Intercept     -1.9199      0.278     -6.913      0.000      -2.501      -1.339\n",
       "DT             2.3908      0.272      8.787      0.000       1.821       2.960\n",
       "==============================================================================\n",
       "Omnibus:                        1.317   Durbin-Watson:                   1.506\n",
       "Prob(Omnibus):                  0.518   Jarque-Bera (JB):                0.968\n",
       "Skew:                          -0.237   Prob(JB):                        0.616\n",
       "Kurtosis:                       2.061   Cond. No.                         17.5\n",
       "==============================================================================\n",
       "\n",
       "Warnings:\n",
       "[1] Standard Errors assume that the covariance matrix of the errors is correctly specified.\n",
       "\"\"\""
      ]
     },
     "execution_count": 38,
     "metadata": {},
     "output_type": "execute_result"
    }
   ],
   "source": [
    "model_4.summary()"
   ]
  }
 ],
 "metadata": {
  "kernelspec": {
   "display_name": "Python 3",
   "language": "python",
   "name": "python3"
  },
  "language_info": {
   "codemirror_mode": {
    "name": "ipython",
    "version": 3
   },
   "file_extension": ".py",
   "mimetype": "text/x-python",
   "name": "python",
   "nbconvert_exporter": "python",
   "pygments_lexer": "ipython3",
   "version": "3.7.1"
  },
  "papermill": {
   "duration": 17.896805,
   "end_time": "2020-11-23T14:28:12.958558",
   "environment_variables": {},
   "exception": null,
   "input_path": "__notebook__.ipynb",
   "output_path": "__notebook__.ipynb",
   "parameters": {},
   "start_time": "2020-11-23T14:27:55.061753",
   "version": "2.1.0"
  }
 },
 "nbformat": 4,
 "nbformat_minor": 4
}
